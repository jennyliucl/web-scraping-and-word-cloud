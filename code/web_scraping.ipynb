{
 "cells": [
  {
   "cell_type": "markdown",
   "metadata": {},
   "source": [
    "## 單篇文章爬取結果"
   ]
  },
  {
   "cell_type": "code",
   "execution_count": 161,
   "metadata": {},
   "outputs": [
    {
     "name": "stdout",
     "output_type": "stream",
     "text": [
      "AttributeError\n",
      "事實釐清\n",
      "健康\n",
      "2021-05-31\n",
      "--- 0.538902997970581 seconds ---\n"
     ]
    }
   ],
   "source": [
    "from bs4 import BeautifulSoup, NavigableString\n",
    "from datetime import datetime\n",
    "import requests, re\n",
    "\n",
    "start_time = time.time()\n",
    "\n",
    "# 連結網站\n",
    "response = requests.get(\"https://tfc-taiwan.org.tw/articles/5665\")\n",
    " \n",
    "# HTML原始碼解析\n",
    "soup = BeautifulSoup(response.text, \"html.parser\")\n",
    "\n",
    "# 製作爬取兩個tag間文字的function\n",
    "def between(cur, end):\n",
    "    while cur and cur != end:\n",
    "        if isinstance(cur, NavigableString):\n",
    "            text = cur.strip()\n",
    "            if len(text):\n",
    "                yield text\n",
    "        cur = cur.next_element\n",
    "\n",
    "# 輸出訊息文本（介於'背景'與'查核'之間的文字）\n",
    "# tem_article = ' '.join(text for text in between(soup.find('h2', text='背景').next_sibling,soup.find('h2', text='查核')))\n",
    "# article = re.search('「(.*)」', tem_article)\n",
    "# print(article.group(1))\n",
    "\n",
    "# 輸出訊息文本（介於'背景'與'查核'之間的文字）without .next_sibling\n",
    "tem_article = ' '.join(text for text in between(soup.find('h2', text=re.compile('背景')),soup.find('h2', text=re.compile('查核'))))\n",
    "if len(tem_article)!=0:\n",
    "    article = re.search('「(.*)」', tem_article)\n",
    "    if article != None:\n",
    "        print(article.group(1))\n",
    "    elif re.search('稱：(.*)圖1',tem_article) != None:\n",
    "        article2 = re.search('稱：(.*)圖1',tem_article)\n",
    "        print(article2.group(1))\n",
    "else:\n",
    "    tem_article2 = ' '.join(text for text in between(soup.find('p', text=re.compile('背景')),soup.find('h2', text=re.compile('查核'))))\n",
    "    article = re.search('：(.*)圖1', tem_article2)\n",
    "    try:\n",
    "        print(article.group(1))\n",
    "    except AttributeError:\n",
    "        print(\"AttributeError\")\n",
    "    \n",
    "\n",
    "# 取得查核結果與主題分類\n",
    "node_tags = soup.find_all(\"div\", {\"class\": \"node-tags\"})\n",
    "node_tag = node_tags[0].get_text()\n",
    "node_tag_filter = list(filter(None, node_tag.split(\"\\n\")))\n",
    "print(node_tag_filter[1]) # 查核結果\n",
    "print(node_tag_filter[2]) # 主題分類\n",
    "\n",
    "# 取得更新日期\n",
    "submitted = soup.find_all(\"div\", {\"class\": \"submitted\"})\n",
    "date = datetime.strptime(submitted[0].get_text(), \"%Y-%m-%d\").date()\n",
    "print(date)\n",
    "\n",
    "print(\"--- %s seconds ---\" % (time.time() - start_time))"
   ]
  },
  {
   "cell_type": "code",
   "execution_count": 135,
   "metadata": {},
   "outputs": [],
   "source": [
    "soup.find('h2', text=re.compile('背景'))"
   ]
  },
  {
   "cell_type": "markdown",
   "metadata": {},
   "source": [
    "## 爬取單一頁面10筆文章的連結"
   ]
  },
  {
   "cell_type": "code",
   "execution_count": 231,
   "metadata": {},
   "outputs": [
    {
     "name": "stdout",
     "output_type": "stream",
     "text": [
      "['/articles/6665', '/articles/6664', '/articles/6660', '/articles/6659', '/articles/6657', '/articles/6656', '/articles/6654', '/articles/6652', '/articles/6650', '/articles/6649']\n"
     ]
    }
   ],
   "source": [
    "response = requests.get(\"https://tfc-taiwan.org.tw/articles/report\") # 事實查核報告分類第一頁，有十筆文章可點選\n",
    "\n",
    "soup = BeautifulSoup(response.content, \"lxml\") # 解析HTML原始碼\n",
    "a_tags = soup.find_all(\"div\", {\"class\": \"view-content\"}) # 包含該頁10篇文章連結的區塊\n",
    "herfs = a_tags[0].find_all(\"a\",attrs={'href': re.compile(\"^/articles/\")}) # 取得區塊內的所有連結\n",
    "\n",
    "links = []\n",
    "for link in herfs:\n",
    "    if \"category\" in link.get('href') or link.get('href') in links: # 只保留事實查核報告的連結，且連結不重複\n",
    "        continue\n",
    "    links.append(link.get('href'))\n",
    "print(links)"
   ]
  },
  {
   "cell_type": "markdown",
   "metadata": {},
   "source": [
    "## 爬取所有文章連結"
   ]
  },
  {
   "cell_type": "code",
   "execution_count": 3,
   "metadata": {},
   "outputs": [
    {
     "name": "stdout",
     "output_type": "stream",
     "text": [
      "Requirement already satisfied: grequests in /opt/anaconda3/lib/python3.7/site-packages (0.6.0)\n",
      "Requirement already satisfied: gevent in /opt/anaconda3/lib/python3.7/site-packages (from grequests) (1.4.0)\n",
      "Requirement already satisfied: requests in /opt/anaconda3/lib/python3.7/site-packages (from grequests) (2.22.0)\n",
      "Requirement already satisfied: greenlet>=0.4.14 in /opt/anaconda3/lib/python3.7/site-packages (from gevent->grequests) (0.4.15)\n",
      "Requirement already satisfied: urllib3!=1.25.0,!=1.25.1,<1.26,>=1.21.1 in /opt/anaconda3/lib/python3.7/site-packages (from requests->grequests) (1.25.11)\n",
      "Requirement already satisfied: idna<2.9,>=2.5 in /opt/anaconda3/lib/python3.7/site-packages (from requests->grequests) (2.8)\n",
      "Requirement already satisfied: chardet<3.1.0,>=3.0.2 in /opt/anaconda3/lib/python3.7/site-packages (from requests->grequests) (3.0.4)\n",
      "Requirement already satisfied: certifi>=2017.4.17 in /opt/anaconda3/lib/python3.7/site-packages (from requests->grequests) (2019.11.28)\n",
      "Note: you may need to restart the kernel to use updated packages.\n"
     ]
    }
   ],
   "source": [
    "pip install grequests"
   ]
  },
  {
   "cell_type": "code",
   "execution_count": 1,
   "metadata": {},
   "outputs": [
    {
     "name": "stderr",
     "output_type": "stream",
     "text": [
      "/opt/anaconda3/lib/python3.7/site-packages/grequests.py:22: MonkeyPatchWarning: Monkey-patching ssl after ssl has already been imported may lead to errors, including RecursionError on Python 3.6. It may also silently lead to incorrect behaviour on Python 3.7. Please monkey-patch earlier. See https://github.com/gevent/gevent/issues/1016. Modules that had direct imports (NOT patched): ['urllib3.contrib.pyopenssl (/opt/anaconda3/lib/python3.7/site-packages/urllib3/contrib/pyopenssl.py)']. \n",
      "  curious_george.patch_all(thread=False, select=False)\n"
     ]
    },
    {
     "data": {
      "text/plain": [
       "1373"
      ]
     },
     "execution_count": 1,
     "metadata": {},
     "output_type": "execute_result"
    }
   ],
   "source": [
    "from bs4 import BeautifulSoup, NavigableString\n",
    "import requests, re, grequests\n",
    "\n",
    "# 製作事實查核報告列表1-137頁的網址清單（list）\n",
    "page_w_10 = []\n",
    "page_w_10 = [\"https://tfc-taiwan.org.tw/articles/report/articles/category/26/27\"]\n",
    "for page in range(1,138):\n",
    "    page_w_10.append(\"https://tfc-taiwan.org.tw/articles/report/articles/category/26/27?page=\" + str(page))\n",
    "\n",
    "reqs = (grequests.get(link) for link in page_w_10)  # 建立請求集合\n",
    "response = grequests.imap(reqs, grequests.Pool(137))  # 發送請求\n",
    "\n",
    "links = []\n",
    "for r in response:\n",
    "    \n",
    "    soup = BeautifulSoup(r.content, \"lxml\") # 解析HTML原始碼\n",
    "    a_tags = soup.find_all(\"div\", {\"class\": \"view-content\"}) # 包含該頁10篇文章連結的區塊\n",
    "    herfs = a_tags[0].find_all(\"a\",attrs={'href': re.compile(\"^/articles/\")}) # 取得區塊內的所有連結\n",
    "\n",
    "    for link in herfs:\n",
    "        if \"category\" in link.get('href') or link.get('href') in links: # 只保留事實查核報告的連結，且連結不重複\n",
    "            continue\n",
    "        links.append(link.get('href'))\n",
    "len(links) # 共1373篇文章"
   ]
  },
  {
   "cell_type": "code",
   "execution_count": 145,
   "metadata": {},
   "outputs": [
    {
     "name": "stdout",
     "output_type": "stream",
     "text": [
      "1373\n",
      "===============\n",
      "1373\n"
     ]
    }
   ],
   "source": [
    "article_links = [] # 所有文章連結的 list\n",
    "error_links = [] # 準備作為未成功爬取文章的連結 list\n",
    "for i in links:\n",
    "    article_links.append(\"https://tfc-taiwan.org.tw\" + i)\n",
    "    error_links.append(\"https://tfc-taiwan.org.tw\" + i)\n",
    "print(len(article_links))\n",
    "print('===============')\n",
    "print(len(error_links))"
   ]
  },
  {
   "cell_type": "code",
   "execution_count": null,
   "metadata": {},
   "outputs": [],
   "source": [
    "print(error_links) "
   ]
  },
  {
   "cell_type": "code",
   "execution_count": null,
   "metadata": {},
   "outputs": [],
   "source": [
    "# DON'T MOVE\n",
    "error_links_test= ['https://tfc-taiwan.org.tw/articles/6456', 'https://tfc-taiwan.org.tw/articles/6270', 'https://tfc-taiwan.org.tw/articles/6262', 'https://tfc-taiwan.org.tw/articles/6068', 'https://tfc-taiwan.org.tw/articles/6002', 'https://tfc-taiwan.org.tw/articles/6000', 'https://tfc-taiwan.org.tw/articles/5896', 'https://tfc-taiwan.org.tw/articles/5923', 'https://tfc-taiwan.org.tw/articles/5665', 'https://tfc-taiwan.org.tw/articles/5646', 'https://tfc-taiwan.org.tw/articles/5573', 'https://tfc-taiwan.org.tw/articles/5569', 'https://tfc-taiwan.org.tw/articles/5503', 'https://tfc-taiwan.org.tw/articles/5320', 'https://tfc-taiwan.org.tw/articles/5295', 'https://tfc-taiwan.org.tw/articles/5196', 'https://tfc-taiwan.org.tw/articles/5186', 'https://tfc-taiwan.org.tw/articles/5215', 'https://tfc-taiwan.org.tw/articles/5148', 'https://tfc-taiwan.org.tw/articles/5135', 'https://tfc-taiwan.org.tw/articles/5027', 'https://tfc-taiwan.org.tw/articles/5006', 'https://tfc-taiwan.org.tw/articles/4876', 'https://tfc-taiwan.org.tw/articles/4866', 'https://tfc-taiwan.org.tw/articles/4692', 'https://tfc-taiwan.org.tw/articles/4467', 'https://tfc-taiwan.org.tw/articles/4135', 'https://tfc-taiwan.org.tw/articles/3921', 'https://tfc-taiwan.org.tw/articles/3856', 'https://tfc-taiwan.org.tw/articles/3852', 'https://tfc-taiwan.org.tw/articles/3827', 'https://tfc-taiwan.org.tw/articles/3825', 'https://tfc-taiwan.org.tw/articles/3823', 'https://tfc-taiwan.org.tw/articles/3822', 'https://tfc-taiwan.org.tw/articles/3821', 'https://tfc-taiwan.org.tw/articles/3818', 'https://tfc-taiwan.org.tw/articles/3816', 'https://tfc-taiwan.org.tw/articles/3804', 'https://tfc-taiwan.org.tw/articles/3803', 'https://tfc-taiwan.org.tw/articles/3795', 'https://tfc-taiwan.org.tw/articles/3851', 'https://tfc-taiwan.org.tw/articles/3850', 'https://tfc-taiwan.org.tw/articles/3849', 'https://tfc-taiwan.org.tw/articles/3847', 'https://tfc-taiwan.org.tw/articles/3846', 'https://tfc-taiwan.org.tw/articles/3845', 'https://tfc-taiwan.org.tw/articles/3843', 'https://tfc-taiwan.org.tw/articles/3836', 'https://tfc-taiwan.org.tw/articles/3830', 'https://tfc-taiwan.org.tw/articles/3829', 'https://tfc-taiwan.org.tw/articles/3794', 'https://tfc-taiwan.org.tw/articles/3792', 'https://tfc-taiwan.org.tw/articles/3791', 'https://tfc-taiwan.org.tw/articles/3790', 'https://tfc-taiwan.org.tw/articles/3787', 'https://tfc-taiwan.org.tw/articles/3783', 'https://tfc-taiwan.org.tw/articles/3781', 'https://tfc-taiwan.org.tw/articles/3772', 'https://tfc-taiwan.org.tw/articles/3769', 'https://tfc-taiwan.org.tw/articles/3768', 'https://tfc-taiwan.org.tw/articles/3762', 'https://tfc-taiwan.org.tw/articles/3758', 'https://tfc-taiwan.org.tw/articles/3757', 'https://tfc-taiwan.org.tw/articles/3640', 'https://tfc-taiwan.org.tw/articles/2916', 'https://tfc-taiwan.org.tw/articles/2736', 'https://tfc-taiwan.org.tw/articles/2081', 'https://tfc-taiwan.org.tw/articles/2076', 'https://tfc-taiwan.org.tw/articles/1718', 'https://tfc-taiwan.org.tw/articles/1688', 'https://tfc-taiwan.org.tw/articles/919', 'https://tfc-taiwan.org.tw/articles/817', 'https://tfc-taiwan.org.tw/articles/636', 'https://tfc-taiwan.org.tw/articles/617', 'https://tfc-taiwan.org.tw/articles/616', 'https://tfc-taiwan.org.tw/articles/451', 'https://tfc-taiwan.org.tw/articles/486', 'https://tfc-taiwan.org.tw/articles/377', 'https://tfc-taiwan.org.tw/articles/355', 'https://tfc-taiwan.org.tw/articles/350', 'https://tfc-taiwan.org.tw/articles/349']\n",
    "error_links_delete= ['https://tfc-taiwan.org.tw/articles/6456', 'https://tfc-taiwan.org.tw/articles/6270', 'https://tfc-taiwan.org.tw/articles/6262', 'https://tfc-taiwan.org.tw/articles/6068', 'https://tfc-taiwan.org.tw/articles/6002', 'https://tfc-taiwan.org.tw/articles/6000', 'https://tfc-taiwan.org.tw/articles/5896', 'https://tfc-taiwan.org.tw/articles/5923', 'https://tfc-taiwan.org.tw/articles/5665', 'https://tfc-taiwan.org.tw/articles/5646', 'https://tfc-taiwan.org.tw/articles/5573', 'https://tfc-taiwan.org.tw/articles/5569', 'https://tfc-taiwan.org.tw/articles/5503', 'https://tfc-taiwan.org.tw/articles/5320', 'https://tfc-taiwan.org.tw/articles/5295', 'https://tfc-taiwan.org.tw/articles/5196', 'https://tfc-taiwan.org.tw/articles/5186', 'https://tfc-taiwan.org.tw/articles/5215', 'https://tfc-taiwan.org.tw/articles/5148', 'https://tfc-taiwan.org.tw/articles/5135', 'https://tfc-taiwan.org.tw/articles/5027', 'https://tfc-taiwan.org.tw/articles/5006', 'https://tfc-taiwan.org.tw/articles/4876', 'https://tfc-taiwan.org.tw/articles/4866', 'https://tfc-taiwan.org.tw/articles/4692', 'https://tfc-taiwan.org.tw/articles/4467', 'https://tfc-taiwan.org.tw/articles/4135', 'https://tfc-taiwan.org.tw/articles/3921', 'https://tfc-taiwan.org.tw/articles/3856', 'https://tfc-taiwan.org.tw/articles/3852', 'https://tfc-taiwan.org.tw/articles/3827', 'https://tfc-taiwan.org.tw/articles/3825', 'https://tfc-taiwan.org.tw/articles/3823', 'https://tfc-taiwan.org.tw/articles/3822', 'https://tfc-taiwan.org.tw/articles/3821', 'https://tfc-taiwan.org.tw/articles/3818', 'https://tfc-taiwan.org.tw/articles/3816', 'https://tfc-taiwan.org.tw/articles/3804', 'https://tfc-taiwan.org.tw/articles/3803', 'https://tfc-taiwan.org.tw/articles/3795', 'https://tfc-taiwan.org.tw/articles/3851', 'https://tfc-taiwan.org.tw/articles/3850', 'https://tfc-taiwan.org.tw/articles/3849', 'https://tfc-taiwan.org.tw/articles/3847', 'https://tfc-taiwan.org.tw/articles/3846', 'https://tfc-taiwan.org.tw/articles/3845', 'https://tfc-taiwan.org.tw/articles/3843', 'https://tfc-taiwan.org.tw/articles/3836', 'https://tfc-taiwan.org.tw/articles/3830', 'https://tfc-taiwan.org.tw/articles/3829', 'https://tfc-taiwan.org.tw/articles/3794', 'https://tfc-taiwan.org.tw/articles/3792', 'https://tfc-taiwan.org.tw/articles/3791', 'https://tfc-taiwan.org.tw/articles/3790', 'https://tfc-taiwan.org.tw/articles/3787', 'https://tfc-taiwan.org.tw/articles/3783', 'https://tfc-taiwan.org.tw/articles/3781', 'https://tfc-taiwan.org.tw/articles/3772', 'https://tfc-taiwan.org.tw/articles/3769', 'https://tfc-taiwan.org.tw/articles/3768', 'https://tfc-taiwan.org.tw/articles/3762', 'https://tfc-taiwan.org.tw/articles/3758', 'https://tfc-taiwan.org.tw/articles/3757', 'https://tfc-taiwan.org.tw/articles/3640', 'https://tfc-taiwan.org.tw/articles/2916', 'https://tfc-taiwan.org.tw/articles/2736', 'https://tfc-taiwan.org.tw/articles/2081', 'https://tfc-taiwan.org.tw/articles/2076', 'https://tfc-taiwan.org.tw/articles/1718', 'https://tfc-taiwan.org.tw/articles/1688', 'https://tfc-taiwan.org.tw/articles/919', 'https://tfc-taiwan.org.tw/articles/817', 'https://tfc-taiwan.org.tw/articles/636', 'https://tfc-taiwan.org.tw/articles/617', 'https://tfc-taiwan.org.tw/articles/616', 'https://tfc-taiwan.org.tw/articles/451', 'https://tfc-taiwan.org.tw/articles/486', 'https://tfc-taiwan.org.tw/articles/377', 'https://tfc-taiwan.org.tw/articles/355', 'https://tfc-taiwan.org.tw/articles/350', 'https://tfc-taiwan.org.tw/articles/349']\n"
   ]
  },
  {
   "cell_type": "markdown",
   "metadata": {},
   "source": [
    "## 建立資料集"
   ]
  },
  {
   "cell_type": "code",
   "execution_count": 188,
   "metadata": {},
   "outputs": [
    {
     "name": "stdout",
     "output_type": "stream",
     "text": [
      "--- 460.7077121734619 seconds ---\n"
     ]
    }
   ],
   "source": [
    "# for loop\n",
    "\n",
    "# 製作爬取兩個tag間文字的function\n",
    "#     def between(cur, end):\n",
    "#         while cur and cur != end:\n",
    "#             if isinstance(cur, NavigableString):\n",
    "#                 text = cur.strip()\n",
    "#                 if len(text):\n",
    "#                     yield text\n",
    "#             cur = cur.next_element\n",
    "\n",
    "start_time = time.time()\n",
    "\n",
    "count = -1\n",
    "count_all = -1\n",
    "id_list = [] # id\n",
    "text_list = [] # 訊息文本\n",
    "result_list = [] # 查核結果\n",
    "subject_list = [] # 主題分類\n",
    "date_list = [] # 更新日期\n",
    "link_list = [] # 查核文章連結\n",
    "\n",
    "for link in article_links[900:1373]:\n",
    "    \n",
    "    count_all+=1\n",
    "\n",
    "    # 連結網站\n",
    "    response = requests.get(link)\n",
    "\n",
    "    # HTML原始碼解析\n",
    "    soup = BeautifulSoup(response.text, \"html.parser\")\n",
    "\n",
    "    # 輸出訊息文本（介於'背景'與'查核'之間的文字）without .next_sibling\n",
    "    tem_article = ' '.join(text for text in between(soup.find('h2', text=re.compile('背景')),soup.find('h2', text=re.compile('查核'))))\n",
    "    if len(tem_article)!=0:\n",
    "        article = re.search('「(.*)」', tem_article)\n",
    "        if article != None:\n",
    "            try:\n",
    "                text_list.append(article.group(1))\n",
    "            except AttributeError:\n",
    "                text_list.append('null')\n",
    "        elif re.search('稱：(.*)圖1',tem_article) != None:\n",
    "            article2 = re.search('稱：(.*)圖1',tem_article)\n",
    "            try:\n",
    "                text_list.append(article2.group(1))\n",
    "            except AttributeError:\n",
    "                text_list.append('null')\n",
    "        else:\n",
    "            tem_article2 = ' '.join(text for text in between(soup.find('p', text=re.compile('背景')),soup.find('h2', text=re.compile('查核'))))\n",
    "            article = re.search('：(.*)圖1', tem_article2)\n",
    "            try:\n",
    "                text_list.append(article.group(1))\n",
    "            except AttributeError:\n",
    "                text_list.append('null')\n",
    "    else:\n",
    "        text_list.append('null')\n",
    "\n",
    "    # 取得查核結果與主題分類\n",
    "    node_tags = soup.find_all(\"div\", {\"class\": \"node-tags\"})\n",
    "    node_tag = node_tags[0].get_text()\n",
    "    node_tag_filter = list(filter(None, node_tag.split(\"\\n\")))\n",
    "\n",
    "    try:\n",
    "        result_list.append(node_tag_filter[1]) # 查核結果\n",
    "    except IndexError:\n",
    "        result_list.append('null')\n",
    "\n",
    "    try:\n",
    "        subject_list.append(node_tag_filter[2]) # 主題分類\n",
    "    except IndexError:\n",
    "        subject_list.append('null')\n",
    "\n",
    "    # 取得更新日期\n",
    "    submitted = soup.find_all(\"div\", {\"class\": \"submitted\"})\n",
    "    date = datetime.strptime(submitted[0].get_text(), \"%Y-%m-%d\").date()\n",
    "    date_list.append(date)\n",
    "\n",
    "    # 其他計算\n",
    "    count+=1\n",
    "    id_list.append(count)\n",
    "    link_list.append(link)\n",
    "\n",
    "print(\"--- %s seconds ---\" % (time.time() - start_time))\n"
   ]
  },
  {
   "cell_type": "code",
   "execution_count": 189,
   "metadata": {},
   "outputs": [
    {
     "name": "stdout",
     "output_type": "stream",
     "text": [
      "473\n",
      "473\n",
      "473\n",
      "473\n",
      "473\n",
      "473\n",
      "-519\n",
      "-173\n",
      "=============\n",
      "472\n",
      "472\n"
     ]
    }
   ],
   "source": [
    "print(len(id_list))\n",
    "print(len(text_list))\n",
    "print(len(result_list))\n",
    "print(len(subject_list))\n",
    "print(len(date_list))\n",
    "print(len(link_list))\n",
    "print(len(article_links)-len(link_list)-len(link_list)-len(link_list)-len(link_list))\n",
    "print(len(error_links)-len(link_list)-len(link_list))\n",
    "print('=============')\n",
    "print(count_all)\n",
    "print(count)"
   ]
  },
  {
   "cell_type": "code",
   "execution_count": 187,
   "metadata": {},
   "outputs": [
    {
     "data": {
      "text/plain": [
       "'https://tfc-taiwan.org.tw/articles/84'"
      ]
     },
     "execution_count": 187,
     "metadata": {},
     "output_type": "execute_result"
    }
   ],
   "source": [
    "article_links[1372]"
   ]
  },
  {
   "cell_type": "code",
   "execution_count": 190,
   "metadata": {},
   "outputs": [],
   "source": [
    "d = {'id': id_list, 'text': text_list, 'result': result_list, 'subject': subject_list, 'date': date_list, 'link': link_list}\n",
    "df = pd.DataFrame(data=d)\n",
    "df\n",
    "df.to_csv('factcheck_900_1373.csv', index=False, encoding='utf-8')"
   ]
  },
  {
   "cell_type": "markdown",
   "metadata": {},
   "source": [
    "## 合併四個csv檔案"
   ]
  },
  {
   "cell_type": "code",
   "execution_count": 191,
   "metadata": {},
   "outputs": [
    {
     "data": {
      "text/html": [
       "<div>\n",
       "<style scoped>\n",
       "    .dataframe tbody tr th:only-of-type {\n",
       "        vertical-align: middle;\n",
       "    }\n",
       "\n",
       "    .dataframe tbody tr th {\n",
       "        vertical-align: top;\n",
       "    }\n",
       "\n",
       "    .dataframe thead th {\n",
       "        text-align: right;\n",
       "    }\n",
       "</style>\n",
       "<table border=\"1\" class=\"dataframe\">\n",
       "  <thead>\n",
       "    <tr style=\"text-align: right;\">\n",
       "      <th></th>\n",
       "      <th>id</th>\n",
       "      <th>text</th>\n",
       "      <th>result</th>\n",
       "      <th>subject</th>\n",
       "      <th>date</th>\n",
       "      <th>link</th>\n",
       "    </tr>\n",
       "  </thead>\n",
       "  <tbody>\n",
       "    <tr>\n",
       "      <th>0</th>\n",
       "      <td>0</td>\n",
       "      <td>108 導播室」12月3日發布一則 標題「高嘉瑜酒店不雅視頻流出?」影片，內容從4分開始到1...</td>\n",
       "      <td>錯誤</td>\n",
       "      <td>政治與政策</td>\n",
       "      <td>2021-12-06</td>\n",
       "      <td>https://tfc-taiwan.org.tw/articles/6643</td>\n",
       "    </tr>\n",
       "    <tr>\n",
       "      <th>1</th>\n",
       "      <td>1</td>\n",
       "      <td>最新流出，立委高嘉瑜不雅影片，看完請立即刪除，切勿流傳以免觸法。</td>\n",
       "      <td>錯誤</td>\n",
       "      <td>生活</td>\n",
       "      <td>2021-12-03</td>\n",
       "      <td>https://tfc-taiwan.org.tw/articles/6637</td>\n",
       "    </tr>\n",
       "    <tr>\n",
       "      <th>2</th>\n",
       "      <td>2</td>\n",
       "      <td>12月2日！拜登最害怕的事发生了！美国民主峰会彻底搞砸了！110国元首当场退席！中美地位一夜...</td>\n",
       "      <td>錯誤</td>\n",
       "      <td>國際</td>\n",
       "      <td>2021-12-03</td>\n",
       "      <td>https://tfc-taiwan.org.tw/articles/6636</td>\n",
       "    </tr>\n",
       "    <tr>\n",
       "      <th>3</th>\n",
       "      <td>3</td>\n",
       "      <td>一定要戴上口罩，因為新的 COVID-Omicron 變種冠狀病毒是不同的，致命的和不容易正...</td>\n",
       "      <td>錯誤</td>\n",
       "      <td>健康</td>\n",
       "      <td>2021-12-02</td>\n",
       "      <td>https://tfc-taiwan.org.tw/articles/6634</td>\n",
       "    </tr>\n",
       "    <tr>\n",
       "      <th>4</th>\n",
       "      <td>4</td>\n",
       "      <td>你平時戴口罩是不是撕開這個封膜就開始往嘴上戴，那我告訴你，這個做法是錯誤的，為什麼撕開封膜就...</td>\n",
       "      <td>錯誤</td>\n",
       "      <td>健康</td>\n",
       "      <td>2021-12-01</td>\n",
       "      <td>https://tfc-taiwan.org.tw/articles/6633</td>\n",
       "    </tr>\n",
       "    <tr>\n",
       "      <th>...</th>\n",
       "      <td>...</td>\n",
       "      <td>...</td>\n",
       "      <td>...</td>\n",
       "      <td>...</td>\n",
       "      <td>...</td>\n",
       "      <td>...</td>\n",
       "    </tr>\n",
       "    <tr>\n",
       "      <th>1368</th>\n",
       "      <td>468</td>\n",
       "      <td>法國世足賽奪得冠軍，熱烈歡慶中，衷心銘感台灣製作好穿的衣褲，感激大功勞之餘，刻意安排出台灣的...</td>\n",
       "      <td>錯誤</td>\n",
       "      <td>國際</td>\n",
       "      <td>2018-08-03</td>\n",
       "      <td>https://tfc-taiwan.org.tw/articles/100</td>\n",
       "    </tr>\n",
       "    <tr>\n",
       "      <th>1369</th>\n",
       "      <td>469</td>\n",
       "      <td>以下是澎湖縣體育會總幹事發表的內容：大家別在被執政者騙了，又在移花接木，明明是自己私自更改運...</td>\n",
       "      <td>錯誤</td>\n",
       "      <td>政治與政策</td>\n",
       "      <td>2018-08-03</td>\n",
       "      <td>https://tfc-taiwan.org.tw/articles/98</td>\n",
       "    </tr>\n",
       "    <tr>\n",
       "      <th>1370</th>\n",
       "      <td>470</td>\n",
       "      <td>不用我來說，誰都可以看出來背後老闆是誰，也都猜得出來那些人在玩這種幽靈航空公司的把戲。」該傳...</td>\n",
       "      <td>錯誤</td>\n",
       "      <td>政治與政策</td>\n",
       "      <td>2018-07-31</td>\n",
       "      <td>https://tfc-taiwan.org.tw/articles/83</td>\n",
       "    </tr>\n",
       "    <tr>\n",
       "      <th>1371</th>\n",
       "      <td>471</td>\n",
       "      <td>堅不與我斷交還無懼旅遊禁令 帛琉航空停飛中國」，「無懼陸恐嚇堅持不與台灣斷交 帛琉航空停飛大...</td>\n",
       "      <td>錯誤</td>\n",
       "      <td>政治與政策</td>\n",
       "      <td>2018-07-31</td>\n",
       "      <td>https://tfc-taiwan.org.tw/articles/79</td>\n",
       "    </tr>\n",
       "    <tr>\n",
       "      <th>1372</th>\n",
       "      <td>472</td>\n",
       "      <td>和信醫院院長黃達夫如是言……」的訊息，強調「不應推銷民眾接受電腦斷層檢查！沒事不要亂用斷層掃...</td>\n",
       "      <td>部分錯誤</td>\n",
       "      <td>健康</td>\n",
       "      <td>2018-07-31</td>\n",
       "      <td>https://tfc-taiwan.org.tw/articles/84</td>\n",
       "    </tr>\n",
       "  </tbody>\n",
       "</table>\n",
       "<p>1373 rows × 6 columns</p>\n",
       "</div>"
      ],
      "text/plain": [
       "       id                                               text result subject  \\\n",
       "0       0  108 導播室」12月3日發布一則 標題「高嘉瑜酒店不雅視頻流出?」影片，內容從4分開始到1...     錯誤   政治與政策   \n",
       "1       1                   最新流出，立委高嘉瑜不雅影片，看完請立即刪除，切勿流傳以免觸法。     錯誤      生活   \n",
       "2       2  12月2日！拜登最害怕的事发生了！美国民主峰会彻底搞砸了！110国元首当场退席！中美地位一夜...     錯誤      國際   \n",
       "3       3  一定要戴上口罩，因為新的 COVID-Omicron 變種冠狀病毒是不同的，致命的和不容易正...     錯誤      健康   \n",
       "4       4  你平時戴口罩是不是撕開這個封膜就開始往嘴上戴，那我告訴你，這個做法是錯誤的，為什麼撕開封膜就...     錯誤      健康   \n",
       "...   ...                                                ...    ...     ...   \n",
       "1368  468  法國世足賽奪得冠軍，熱烈歡慶中，衷心銘感台灣製作好穿的衣褲，感激大功勞之餘，刻意安排出台灣的...     錯誤      國際   \n",
       "1369  469  以下是澎湖縣體育會總幹事發表的內容：大家別在被執政者騙了，又在移花接木，明明是自己私自更改運...     錯誤   政治與政策   \n",
       "1370  470  不用我來說，誰都可以看出來背後老闆是誰，也都猜得出來那些人在玩這種幽靈航空公司的把戲。」該傳...     錯誤   政治與政策   \n",
       "1371  471  堅不與我斷交還無懼旅遊禁令 帛琉航空停飛中國」，「無懼陸恐嚇堅持不與台灣斷交 帛琉航空停飛大...     錯誤   政治與政策   \n",
       "1372  472  和信醫院院長黃達夫如是言……」的訊息，強調「不應推銷民眾接受電腦斷層檢查！沒事不要亂用斷層掃...   部分錯誤      健康   \n",
       "\n",
       "            date                                     link  \n",
       "0     2021-12-06  https://tfc-taiwan.org.tw/articles/6643  \n",
       "1     2021-12-03  https://tfc-taiwan.org.tw/articles/6637  \n",
       "2     2021-12-03  https://tfc-taiwan.org.tw/articles/6636  \n",
       "3     2021-12-02  https://tfc-taiwan.org.tw/articles/6634  \n",
       "4     2021-12-01  https://tfc-taiwan.org.tw/articles/6633  \n",
       "...          ...                                      ...  \n",
       "1368  2018-08-03   https://tfc-taiwan.org.tw/articles/100  \n",
       "1369  2018-08-03    https://tfc-taiwan.org.tw/articles/98  \n",
       "1370  2018-07-31    https://tfc-taiwan.org.tw/articles/83  \n",
       "1371  2018-07-31    https://tfc-taiwan.org.tw/articles/79  \n",
       "1372  2018-07-31    https://tfc-taiwan.org.tw/articles/84  \n",
       "\n",
       "[1373 rows x 6 columns]"
      ]
     },
     "execution_count": 191,
     "metadata": {},
     "output_type": "execute_result"
    }
   ],
   "source": [
    "# importing pandas\n",
    "import pandas as pd\n",
    "  \n",
    "# merging two csv files\n",
    "df = pd.concat(\n",
    "    map(pd.read_csv, ['factcheck_0_300.csv', 'factcheck_300_600.csv', 'factcheck_600_900.csv', 'factcheck_900_1373.csv']), ignore_index=True)"
   ]
  },
  {
   "cell_type": "code",
   "execution_count": 204,
   "metadata": {},
   "outputs": [
    {
     "data": {
      "text/html": [
       "<div>\n",
       "<style scoped>\n",
       "    .dataframe tbody tr th:only-of-type {\n",
       "        vertical-align: middle;\n",
       "    }\n",
       "\n",
       "    .dataframe tbody tr th {\n",
       "        vertical-align: top;\n",
       "    }\n",
       "\n",
       "    .dataframe thead th {\n",
       "        text-align: right;\n",
       "    }\n",
       "</style>\n",
       "<table border=\"1\" class=\"dataframe\">\n",
       "  <thead>\n",
       "    <tr style=\"text-align: right;\">\n",
       "      <th></th>\n",
       "      <th>id</th>\n",
       "      <th>text</th>\n",
       "      <th>result</th>\n",
       "      <th>subject</th>\n",
       "      <th>date</th>\n",
       "      <th>link</th>\n",
       "    </tr>\n",
       "  </thead>\n",
       "  <tbody>\n",
       "    <tr>\n",
       "      <th>0</th>\n",
       "      <td>6643</td>\n",
       "      <td>108 導播室」12月3日發布一則 標題「高嘉瑜酒店不雅視頻流出?」影片，內容從4分開始到1...</td>\n",
       "      <td>錯誤</td>\n",
       "      <td>政治與政策</td>\n",
       "      <td>2021-12-06</td>\n",
       "      <td>https://tfc-taiwan.org.tw/articles/6643</td>\n",
       "    </tr>\n",
       "    <tr>\n",
       "      <th>1</th>\n",
       "      <td>6637</td>\n",
       "      <td>最新流出，立委高嘉瑜不雅影片，看完請立即刪除，切勿流傳以免觸法。</td>\n",
       "      <td>錯誤</td>\n",
       "      <td>生活</td>\n",
       "      <td>2021-12-03</td>\n",
       "      <td>https://tfc-taiwan.org.tw/articles/6637</td>\n",
       "    </tr>\n",
       "    <tr>\n",
       "      <th>2</th>\n",
       "      <td>6636</td>\n",
       "      <td>12月2日！拜登最害怕的事发生了！美国民主峰会彻底搞砸了！110国元首当场退席！中美地位一夜...</td>\n",
       "      <td>錯誤</td>\n",
       "      <td>國際</td>\n",
       "      <td>2021-12-03</td>\n",
       "      <td>https://tfc-taiwan.org.tw/articles/6636</td>\n",
       "    </tr>\n",
       "    <tr>\n",
       "      <th>3</th>\n",
       "      <td>6634</td>\n",
       "      <td>一定要戴上口罩，因為新的 COVID-Omicron 變種冠狀病毒是不同的，致命的和不容易正...</td>\n",
       "      <td>錯誤</td>\n",
       "      <td>健康</td>\n",
       "      <td>2021-12-02</td>\n",
       "      <td>https://tfc-taiwan.org.tw/articles/6634</td>\n",
       "    </tr>\n",
       "    <tr>\n",
       "      <th>4</th>\n",
       "      <td>6633</td>\n",
       "      <td>你平時戴口罩是不是撕開這個封膜就開始往嘴上戴，那我告訴你，這個做法是錯誤的，為什麼撕開封膜就...</td>\n",
       "      <td>錯誤</td>\n",
       "      <td>健康</td>\n",
       "      <td>2021-12-01</td>\n",
       "      <td>https://tfc-taiwan.org.tw/articles/6633</td>\n",
       "    </tr>\n",
       "    <tr>\n",
       "      <th>...</th>\n",
       "      <td>...</td>\n",
       "      <td>...</td>\n",
       "      <td>...</td>\n",
       "      <td>...</td>\n",
       "      <td>...</td>\n",
       "      <td>...</td>\n",
       "    </tr>\n",
       "    <tr>\n",
       "      <th>1368</th>\n",
       "      <td>100</td>\n",
       "      <td>法國世足賽奪得冠軍，熱烈歡慶中，衷心銘感台灣製作好穿的衣褲，感激大功勞之餘，刻意安排出台灣的...</td>\n",
       "      <td>錯誤</td>\n",
       "      <td>國際</td>\n",
       "      <td>2018-08-03</td>\n",
       "      <td>https://tfc-taiwan.org.tw/articles/100</td>\n",
       "    </tr>\n",
       "    <tr>\n",
       "      <th>1369</th>\n",
       "      <td>98</td>\n",
       "      <td>以下是澎湖縣體育會總幹事發表的內容：大家別在被執政者騙了，又在移花接木，明明是自己私自更改運...</td>\n",
       "      <td>錯誤</td>\n",
       "      <td>政治與政策</td>\n",
       "      <td>2018-08-03</td>\n",
       "      <td>https://tfc-taiwan.org.tw/articles/98</td>\n",
       "    </tr>\n",
       "    <tr>\n",
       "      <th>1370</th>\n",
       "      <td>83</td>\n",
       "      <td>不用我來說，誰都可以看出來背後老闆是誰，也都猜得出來那些人在玩這種幽靈航空公司的把戲。」該傳...</td>\n",
       "      <td>錯誤</td>\n",
       "      <td>政治與政策</td>\n",
       "      <td>2018-07-31</td>\n",
       "      <td>https://tfc-taiwan.org.tw/articles/83</td>\n",
       "    </tr>\n",
       "    <tr>\n",
       "      <th>1371</th>\n",
       "      <td>79</td>\n",
       "      <td>堅不與我斷交還無懼旅遊禁令 帛琉航空停飛中國」，「無懼陸恐嚇堅持不與台灣斷交 帛琉航空停飛大...</td>\n",
       "      <td>錯誤</td>\n",
       "      <td>政治與政策</td>\n",
       "      <td>2018-07-31</td>\n",
       "      <td>https://tfc-taiwan.org.tw/articles/79</td>\n",
       "    </tr>\n",
       "    <tr>\n",
       "      <th>1372</th>\n",
       "      <td>84</td>\n",
       "      <td>和信醫院院長黃達夫如是言……」的訊息，強調「不應推銷民眾接受電腦斷層檢查！沒事不要亂用斷層掃...</td>\n",
       "      <td>部分錯誤</td>\n",
       "      <td>健康</td>\n",
       "      <td>2018-07-31</td>\n",
       "      <td>https://tfc-taiwan.org.tw/articles/84</td>\n",
       "    </tr>\n",
       "  </tbody>\n",
       "</table>\n",
       "<p>1373 rows × 6 columns</p>\n",
       "</div>"
      ],
      "text/plain": [
       "        id                                               text result subject  \\\n",
       "0     6643  108 導播室」12月3日發布一則 標題「高嘉瑜酒店不雅視頻流出?」影片，內容從4分開始到1...     錯誤   政治與政策   \n",
       "1     6637                   最新流出，立委高嘉瑜不雅影片，看完請立即刪除，切勿流傳以免觸法。     錯誤      生活   \n",
       "2     6636  12月2日！拜登最害怕的事发生了！美国民主峰会彻底搞砸了！110国元首当场退席！中美地位一夜...     錯誤      國際   \n",
       "3     6634  一定要戴上口罩，因為新的 COVID-Omicron 變種冠狀病毒是不同的，致命的和不容易正...     錯誤      健康   \n",
       "4     6633  你平時戴口罩是不是撕開這個封膜就開始往嘴上戴，那我告訴你，這個做法是錯誤的，為什麼撕開封膜就...     錯誤      健康   \n",
       "...    ...                                                ...    ...     ...   \n",
       "1368   100  法國世足賽奪得冠軍，熱烈歡慶中，衷心銘感台灣製作好穿的衣褲，感激大功勞之餘，刻意安排出台灣的...     錯誤      國際   \n",
       "1369    98  以下是澎湖縣體育會總幹事發表的內容：大家別在被執政者騙了，又在移花接木，明明是自己私自更改運...     錯誤   政治與政策   \n",
       "1370    83  不用我來說，誰都可以看出來背後老闆是誰，也都猜得出來那些人在玩這種幽靈航空公司的把戲。」該傳...     錯誤   政治與政策   \n",
       "1371    79  堅不與我斷交還無懼旅遊禁令 帛琉航空停飛中國」，「無懼陸恐嚇堅持不與台灣斷交 帛琉航空停飛大...     錯誤   政治與政策   \n",
       "1372    84  和信醫院院長黃達夫如是言……」的訊息，強調「不應推銷民眾接受電腦斷層檢查！沒事不要亂用斷層掃...   部分錯誤      健康   \n",
       "\n",
       "            date                                     link  \n",
       "0     2021-12-06  https://tfc-taiwan.org.tw/articles/6643  \n",
       "1     2021-12-03  https://tfc-taiwan.org.tw/articles/6637  \n",
       "2     2021-12-03  https://tfc-taiwan.org.tw/articles/6636  \n",
       "3     2021-12-02  https://tfc-taiwan.org.tw/articles/6634  \n",
       "4     2021-12-01  https://tfc-taiwan.org.tw/articles/6633  \n",
       "...          ...                                      ...  \n",
       "1368  2018-08-03   https://tfc-taiwan.org.tw/articles/100  \n",
       "1369  2018-08-03    https://tfc-taiwan.org.tw/articles/98  \n",
       "1370  2018-07-31    https://tfc-taiwan.org.tw/articles/83  \n",
       "1371  2018-07-31    https://tfc-taiwan.org.tw/articles/79  \n",
       "1372  2018-07-31    https://tfc-taiwan.org.tw/articles/84  \n",
       "\n",
       "[1373 rows x 6 columns]"
      ]
     },
     "execution_count": 204,
     "metadata": {},
     "output_type": "execute_result"
    }
   ],
   "source": [
    "for_id = []\n",
    "for i in df['link']:\n",
    "    for_id.append(i.replace('https://tfc-taiwan.org.tw/articles/',''))\n",
    "df['id'] = for_id\n",
    "df"
   ]
  },
  {
   "cell_type": "code",
   "execution_count": 205,
   "metadata": {},
   "outputs": [],
   "source": [
    "df.to_csv('factcheck.csv', index=False, encoding='utf-8')"
   ]
  },
  {
   "cell_type": "markdown",
   "metadata": {},
   "source": [
    "# 延伸應用 關鍵字搜尋"
   ]
  },
  {
   "cell_type": "code",
   "execution_count": 262,
   "metadata": {},
   "outputs": [],
   "source": [
    "all_text = []\n",
    "for i in range(0,1373):\n",
    "    all_text.append(str(df['text'][i]))"
   ]
  },
  {
   "cell_type": "code",
   "execution_count": null,
   "metadata": {},
   "outputs": [],
   "source": [
    "while True:\n",
    "    check_str = str(input('輸入想查核的訊息：'))\n",
    "    print('')\n",
    "    matching = [x for x in all_text if check_str in x]\n",
    "    if len(matching)!=0:\n",
    "        print('與「',check_str,'」相關的訊息有',len(matching),'則：','\\n',sep='')\n",
    "        check_index = []\n",
    "        for i in range(0,len(matching)):\n",
    "            check_index.append(all_text.index(str(matching[i])))\n",
    "            print('編號',check_index[i],'. ','\\n',all_text[check_index[i]],'\\n',sep='')\n",
    "        check = int(input('請輸入您要查核的訊息編號：'))\n",
    "        if check in check_index:\n",
    "            print('查核結果為「',df['result'][check],'」消息',sep='')\n",
    "            print('查核相關資料請見',df['link'][check],'\\n')\n",
    "            cont = int(input('是否要繼續查核其他訊息？（1:是, 0:否）'))\n",
    "            if cont == 1:\n",
    "                continue\n",
    "            else:\n",
    "                break\n",
    "        else:\n",
    "            cont = int(input('查無結果，是否要繼續查核其他訊息？（1:是, 0:否）'))\n",
    "            if cont == 1:\n",
    "                continue\n",
    "            else:\n",
    "                break\n",
    "    else:\n",
    "        cont = int(input('資料庫無相關訊息可供查證，是否要繼續查核其他訊息？（1:是, 0:否）'))\n",
    "        if cont == 1:\n",
    "                continue\n",
    "        else:\n",
    "            break\n",
    "print('感謝您使用本查核系統')"
   ]
  }
 ],
 "metadata": {
  "kernelspec": {
   "display_name": "Python 3",
   "language": "python",
   "name": "python3"
  },
  "language_info": {
   "codemirror_mode": {
    "name": "ipython",
    "version": 3
   },
   "file_extension": ".py",
   "mimetype": "text/x-python",
   "name": "python",
   "nbconvert_exporter": "python",
   "pygments_lexer": "ipython3",
   "version": "3.7.6"
  }
 },
 "nbformat": 4,
 "nbformat_minor": 4
}
